{
 "cells": [
  {
   "cell_type": "markdown",
   "id": "ea691e5f",
   "metadata": {},
   "source": [
    "## Part 1"
   ]
  },
  {
   "cell_type": "code",
   "execution_count": 1,
   "id": "c74b46ed",
   "metadata": {},
   "outputs": [],
   "source": [
    "import requests\n",
    "from bs4 import BeautifulSoup\n",
    "import pandas as pd\n"
   ]
  },
  {
   "cell_type": "code",
   "execution_count": 8,
   "id": "1ece5f5f",
   "metadata": {},
   "outputs": [
    {
     "data": {
      "text/plain": [
       "<Response [200]>"
      ]
     },
     "execution_count": 8,
     "metadata": {},
     "output_type": "execute_result"
    }
   ],
   "source": [
    "response = requests.get('http://www.popvortex.com/music/charts/top-100-songs.php')\n",
    "response"
   ]
  },
  {
   "cell_type": "code",
   "execution_count": 20,
   "id": "ae205ecd",
   "metadata": {},
   "outputs": [],
   "source": [
    "soup = BeautifulSoup(response.content, 'html.parser')\n",
    "# print(soup.prettify())"
   ]
  },
  {
   "cell_type": "code",
   "execution_count": 17,
   "id": "a63fd320",
   "metadata": {},
   "outputs": [],
   "source": [
    "songs_tags = soup.select('.title')\n",
    "artists_tags = soup.select('.artist')"
   ]
  },
  {
   "cell_type": "code",
   "execution_count": 11,
   "id": "33a68be0",
   "metadata": {},
   "outputs": [],
   "source": [
    "songs = [tag.text for tag in songs_tags]\n",
    "artists = [tag.text for tag in artists_tags]"
   ]
  },
  {
   "cell_type": "code",
   "execution_count": 12,
   "id": "e0daba4b",
   "metadata": {},
   "outputs": [],
   "source": [
    "df = pd.DataFrame({'Song': songs, 'Artist': artists})"
   ]
  },
  {
   "cell_type": "code",
   "execution_count": 13,
   "id": "60e38d4d",
   "metadata": {},
   "outputs": [
    {
     "data": {
      "text/html": [
       "<div>\n",
       "<style scoped>\n",
       "    .dataframe tbody tr th:only-of-type {\n",
       "        vertical-align: middle;\n",
       "    }\n",
       "\n",
       "    .dataframe tbody tr th {\n",
       "        vertical-align: top;\n",
       "    }\n",
       "\n",
       "    .dataframe thead th {\n",
       "        text-align: right;\n",
       "    }\n",
       "</style>\n",
       "<table border=\"1\" class=\"dataframe\">\n",
       "  <thead>\n",
       "    <tr style=\"text-align: right;\">\n",
       "      <th></th>\n",
       "      <th>Song</th>\n",
       "      <th>Artist</th>\n",
       "    </tr>\n",
       "  </thead>\n",
       "  <tbody>\n",
       "    <tr>\n",
       "      <th>0</th>\n",
       "      <td>Margaritaville</td>\n",
       "      <td>Jimmy Buffett</td>\n",
       "    </tr>\n",
       "    <tr>\n",
       "      <th>1</th>\n",
       "      <td>Come Monday</td>\n",
       "      <td>Jimmy Buffett</td>\n",
       "    </tr>\n",
       "    <tr>\n",
       "      <th>2</th>\n",
       "      <td>Rich Men North of Richmond</td>\n",
       "      <td>Oliver Anthony Music</td>\n",
       "    </tr>\n",
       "    <tr>\n",
       "      <th>3</th>\n",
       "      <td>Cheeseburger In Paradise</td>\n",
       "      <td>Jimmy Buffett</td>\n",
       "    </tr>\n",
       "    <tr>\n",
       "      <th>4</th>\n",
       "      <td>Changes In Latitudes, Changes In Attitudes</td>\n",
       "      <td>Jimmy Buffett</td>\n",
       "    </tr>\n",
       "    <tr>\n",
       "      <th>...</th>\n",
       "      <td>...</td>\n",
       "      <td>...</td>\n",
       "    </tr>\n",
       "    <tr>\n",
       "      <th>95</th>\n",
       "      <td>Bring Me to Life</td>\n",
       "      <td>Evanescence</td>\n",
       "    </tr>\n",
       "    <tr>\n",
       "      <th>96</th>\n",
       "      <td>Demons</td>\n",
       "      <td>Doja Cat</td>\n",
       "    </tr>\n",
       "    <tr>\n",
       "      <th>97</th>\n",
       "      <td>Edge of Seventeen</td>\n",
       "      <td>Stevie Nicks</td>\n",
       "    </tr>\n",
       "    <tr>\n",
       "      <th>98</th>\n",
       "      <td>Bad Moon Rising</td>\n",
       "      <td>Creedence Clearwater Revival</td>\n",
       "    </tr>\n",
       "    <tr>\n",
       "      <th>99</th>\n",
       "      <td>Rhiannon</td>\n",
       "      <td>Fleetwood Mac</td>\n",
       "    </tr>\n",
       "  </tbody>\n",
       "</table>\n",
       "<p>100 rows × 2 columns</p>\n",
       "</div>"
      ],
      "text/plain": [
       "                                          Song                        Artist\n",
       "0                               Margaritaville                 Jimmy Buffett\n",
       "1                                  Come Monday                 Jimmy Buffett\n",
       "2                   Rich Men North of Richmond          Oliver Anthony Music\n",
       "3                     Cheeseburger In Paradise                 Jimmy Buffett\n",
       "4   Changes In Latitudes, Changes In Attitudes                 Jimmy Buffett\n",
       "..                                         ...                           ...\n",
       "95                            Bring Me to Life                   Evanescence\n",
       "96                                      Demons                      Doja Cat\n",
       "97                           Edge of Seventeen                  Stevie Nicks\n",
       "98                             Bad Moon Rising  Creedence Clearwater Revival\n",
       "99                                    Rhiannon                 Fleetwood Mac\n",
       "\n",
       "[100 rows x 2 columns]"
      ]
     },
     "execution_count": 13,
     "metadata": {},
     "output_type": "execute_result"
    }
   ],
   "source": [
    "df"
   ]
  },
  {
   "cell_type": "markdown",
   "id": "d2b535e7",
   "metadata": {},
   "source": [
    "## Part 2"
   ]
  },
  {
   "cell_type": "markdown",
   "id": "63f03e0e",
   "metadata": {},
   "source": [
    "https://www.billboard.com/charts/billboard-200/"
   ]
  },
  {
   "cell_type": "code",
   "execution_count": 21,
   "id": "980eed0a",
   "metadata": {},
   "outputs": [
    {
     "data": {
      "text/plain": [
       "<Response [200]>"
      ]
     },
     "execution_count": 21,
     "metadata": {},
     "output_type": "execute_result"
    }
   ],
   "source": [
    "responsebb = requests.get('https://www.billboard.com/charts/billboard-200/')\n",
    "responsebb"
   ]
  },
  {
   "cell_type": "code",
   "execution_count": 38,
   "id": "efb4971e",
   "metadata": {},
   "outputs": [],
   "source": [
    "soupbb = BeautifulSoup(responsebb.content, 'html.parser')\n",
    "# soupbb.prettify()"
   ]
  },
  {
   "cell_type": "code",
   "execution_count": 86,
   "id": "4f0e3626",
   "metadata": {},
   "outputs": [],
   "source": [
    "songsbb = []\n",
    "artistsbb = []\n",
    "songsbb_tags = soupbb.select('ul > li > ul > li> h3 #title-of-a-story.c-title')\n",
    "for tag in songs_tags:\n",
    "    tag_text = tag.text.strip()\n",
    "    if tag_text not in ['Imprint/Promotion Label:', \n",
    "                        'Follow Us',\n",
    "                        'Have a Tip?',\n",
    "                        'The Daily',\n",
    "                        'Additional Awards',\n",
    "                        'Gains in Weekly Performance'\n",
    "                       ] :\n",
    "        songsbb.append(tag_text)\n",
    "        span = tag.find_next()\n",
    "        artistsbb.append(span.text.strip())\n",
    "songsbb = songsbb[1:201]\n",
    "artistsbb = artistsbb[1:201]"
   ]
  },
  {
   "cell_type": "code",
   "execution_count": 87,
   "id": "569ea831",
   "metadata": {},
   "outputs": [
    {
     "data": {
      "text/html": [
       "<div>\n",
       "<style scoped>\n",
       "    .dataframe tbody tr th:only-of-type {\n",
       "        vertical-align: middle;\n",
       "    }\n",
       "\n",
       "    .dataframe tbody tr th {\n",
       "        vertical-align: top;\n",
       "    }\n",
       "\n",
       "    .dataframe thead th {\n",
       "        text-align: right;\n",
       "    }\n",
       "</style>\n",
       "<table border=\"1\" class=\"dataframe\">\n",
       "  <thead>\n",
       "    <tr style=\"text-align: right;\">\n",
       "      <th></th>\n",
       "      <th>Song</th>\n",
       "      <th>Artist</th>\n",
       "    </tr>\n",
       "  </thead>\n",
       "  <tbody>\n",
       "    <tr>\n",
       "      <th>0</th>\n",
       "      <td>Utopia</td>\n",
       "      <td>Travis Scott</td>\n",
       "    </tr>\n",
       "    <tr>\n",
       "      <th>1</th>\n",
       "      <td>One Thing At A Time</td>\n",
       "      <td>Morgan Wallen</td>\n",
       "    </tr>\n",
       "    <tr>\n",
       "      <th>2</th>\n",
       "      <td>Unreal Unearth</td>\n",
       "      <td>Hozier</td>\n",
       "    </tr>\n",
       "    <tr>\n",
       "      <th>3</th>\n",
       "      <td>Barbie: The Album</td>\n",
       "      <td>Soundtrack</td>\n",
       "    </tr>\n",
       "    <tr>\n",
       "      <th>4</th>\n",
       "      <td>Midnights</td>\n",
       "      <td>Taylor Swift</td>\n",
       "    </tr>\n",
       "    <tr>\n",
       "      <th>...</th>\n",
       "      <td>...</td>\n",
       "      <td>...</td>\n",
       "    </tr>\n",
       "    <tr>\n",
       "      <th>195</th>\n",
       "      <td>Whole Lotta Red</td>\n",
       "      <td>Playboi Carti</td>\n",
       "    </tr>\n",
       "    <tr>\n",
       "      <th>196</th>\n",
       "      <td>Hot Rocks 1964-1971</td>\n",
       "      <td>The Rolling Stones</td>\n",
       "    </tr>\n",
       "    <tr>\n",
       "      <th>197</th>\n",
       "      <td>Man On The Moon: The End Of Day</td>\n",
       "      <td>Kid Cudi</td>\n",
       "    </tr>\n",
       "    <tr>\n",
       "      <th>198</th>\n",
       "      <td>DS4EVER</td>\n",
       "      <td>Gunna</td>\n",
       "    </tr>\n",
       "    <tr>\n",
       "      <th>199</th>\n",
       "      <td>Portals</td>\n",
       "      <td>Melanie Martinez</td>\n",
       "    </tr>\n",
       "  </tbody>\n",
       "</table>\n",
       "<p>200 rows × 2 columns</p>\n",
       "</div>"
      ],
      "text/plain": [
       "                                Song              Artist\n",
       "0                             Utopia        Travis Scott\n",
       "1                One Thing At A Time       Morgan Wallen\n",
       "2                     Unreal Unearth              Hozier\n",
       "3                  Barbie: The Album          Soundtrack\n",
       "4                          Midnights        Taylor Swift\n",
       "..                               ...                 ...\n",
       "195                  Whole Lotta Red       Playboi Carti\n",
       "196              Hot Rocks 1964-1971  The Rolling Stones\n",
       "197  Man On The Moon: The End Of Day            Kid Cudi\n",
       "198                          DS4EVER               Gunna\n",
       "199                          Portals    Melanie Martinez\n",
       "\n",
       "[200 rows x 2 columns]"
      ]
     },
     "execution_count": 87,
     "metadata": {},
     "output_type": "execute_result"
    }
   ],
   "source": [
    "dfbb = pd.DataFrame({'Song': songsbb, 'Artist': artistsbb})\n",
    "dfbb"
   ]
  },
  {
   "cell_type": "code",
   "execution_count": 89,
   "id": "82a85fa9",
   "metadata": {},
   "outputs": [
    {
     "data": {
      "text/html": [
       "<div>\n",
       "<style scoped>\n",
       "    .dataframe tbody tr th:only-of-type {\n",
       "        vertical-align: middle;\n",
       "    }\n",
       "\n",
       "    .dataframe tbody tr th {\n",
       "        vertical-align: top;\n",
       "    }\n",
       "\n",
       "    .dataframe thead th {\n",
       "        text-align: right;\n",
       "    }\n",
       "</style>\n",
       "<table border=\"1\" class=\"dataframe\">\n",
       "  <thead>\n",
       "    <tr style=\"text-align: right;\">\n",
       "      <th></th>\n",
       "      <th>Song</th>\n",
       "      <th>Artist</th>\n",
       "    </tr>\n",
       "  </thead>\n",
       "  <tbody>\n",
       "    <tr>\n",
       "      <th>0</th>\n",
       "      <td>Margaritaville</td>\n",
       "      <td>Jimmy Buffett</td>\n",
       "    </tr>\n",
       "    <tr>\n",
       "      <th>1</th>\n",
       "      <td>Come Monday</td>\n",
       "      <td>Jimmy Buffett</td>\n",
       "    </tr>\n",
       "    <tr>\n",
       "      <th>2</th>\n",
       "      <td>Rich Men North of Richmond</td>\n",
       "      <td>Oliver Anthony Music</td>\n",
       "    </tr>\n",
       "    <tr>\n",
       "      <th>3</th>\n",
       "      <td>Cheeseburger In Paradise</td>\n",
       "      <td>Jimmy Buffett</td>\n",
       "    </tr>\n",
       "    <tr>\n",
       "      <th>4</th>\n",
       "      <td>Changes In Latitudes, Changes In Attitudes</td>\n",
       "      <td>Jimmy Buffett</td>\n",
       "    </tr>\n",
       "    <tr>\n",
       "      <th>...</th>\n",
       "      <td>...</td>\n",
       "      <td>...</td>\n",
       "    </tr>\n",
       "    <tr>\n",
       "      <th>292</th>\n",
       "      <td>Whole Lotta Red</td>\n",
       "      <td>Playboi Carti</td>\n",
       "    </tr>\n",
       "    <tr>\n",
       "      <th>293</th>\n",
       "      <td>Hot Rocks 1964-1971</td>\n",
       "      <td>The Rolling Stones</td>\n",
       "    </tr>\n",
       "    <tr>\n",
       "      <th>294</th>\n",
       "      <td>Man On The Moon: The End Of Day</td>\n",
       "      <td>Kid Cudi</td>\n",
       "    </tr>\n",
       "    <tr>\n",
       "      <th>295</th>\n",
       "      <td>DS4EVER</td>\n",
       "      <td>Gunna</td>\n",
       "    </tr>\n",
       "    <tr>\n",
       "      <th>296</th>\n",
       "      <td>Portals</td>\n",
       "      <td>Melanie Martinez</td>\n",
       "    </tr>\n",
       "  </tbody>\n",
       "</table>\n",
       "<p>297 rows × 2 columns</p>\n",
       "</div>"
      ],
      "text/plain": [
       "                                           Song                Artist\n",
       "0                                Margaritaville         Jimmy Buffett\n",
       "1                                   Come Monday         Jimmy Buffett\n",
       "2                    Rich Men North of Richmond  Oliver Anthony Music\n",
       "3                      Cheeseburger In Paradise         Jimmy Buffett\n",
       "4    Changes In Latitudes, Changes In Attitudes         Jimmy Buffett\n",
       "..                                          ...                   ...\n",
       "292                             Whole Lotta Red         Playboi Carti\n",
       "293                         Hot Rocks 1964-1971    The Rolling Stones\n",
       "294             Man On The Moon: The End Of Day              Kid Cudi\n",
       "295                                     DS4EVER                 Gunna\n",
       "296                                     Portals      Melanie Martinez\n",
       "\n",
       "[297 rows x 2 columns]"
      ]
     },
     "execution_count": 89,
     "metadata": {},
     "output_type": "execute_result"
    }
   ],
   "source": [
    "merged = pd.concat([df, dfbb]).drop_duplicates().reset_index(drop=True)\n",
    "\n",
    "merged"
   ]
  },
  {
   "cell_type": "code",
   "execution_count": null,
   "id": "9f6e9785",
   "metadata": {},
   "outputs": [],
   "source": []
  }
 ],
 "metadata": {
  "kernelspec": {
   "display_name": "Python 3 (ipykernel)",
   "language": "python",
   "name": "python3"
  },
  "language_info": {
   "codemirror_mode": {
    "name": "ipython",
    "version": 3
   },
   "file_extension": ".py",
   "mimetype": "text/x-python",
   "name": "python",
   "nbconvert_exporter": "python",
   "pygments_lexer": "ipython3",
   "version": "3.10.9"
  }
 },
 "nbformat": 4,
 "nbformat_minor": 5
}
